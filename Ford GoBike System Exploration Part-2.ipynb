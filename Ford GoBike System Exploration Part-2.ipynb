{
 "cells": [
  {
   "cell_type": "markdown",
   "metadata": {
    "slideshow": {
     "slide_type": "slide"
    }
   },
   "source": [
    "# Part II - (Ford GoBike system Exploration)\n",
    "## by Verah Angwenyi"
   ]
  },
  {
   "cell_type": "markdown",
   "metadata": {
    "slideshow": {
     "slide_type": "slide"
    }
   },
   "source": [
    "## Investigation Overview\n",
    "\n",
    "> In this analysis, I wanted to look at how the duration of trips varies depending on gender, time and the type of user. Hours of the day, days of the week will also be used in the analysis"
   ]
  },
  {
   "cell_type": "markdown",
   "metadata": {
    "slideshow": {
     "slide_type": "slide"
    }
   },
   "source": [
    "## Dataset Overview\n",
    "\n",
    "> The dataset contains 183412 fordgobike trips with the following 14 specifications: duration sec, start time, end time, start station id, start station name, start station latitude, start station longitude, bike id, user type and bike share for all trip."
   ]
  },
  {
   "cell_type": "code",
   "execution_count": 1,
   "metadata": {
    "slideshow": {
     "slide_type": "skip"
    }
   },
   "outputs": [],
   "source": [
    "# import all packages and set plots to be embedded inline\n",
    "import numpy as np\n",
    "import pandas as pd\n",
    "import matplotlib.pyplot as plt\n",
    "import seaborn as sb\n",
    "\n",
    "%matplotlib inline\n",
    "\n",
    "# suppress warnings from final output\n",
    "import warnings\n",
    "warnings.simplefilter(\"ignore\")"
   ]
  },
  {
   "cell_type": "code",
   "execution_count": 2,
   "metadata": {
    "scrolled": false,
    "slideshow": {
     "slide_type": "skip"
    }
   },
   "outputs": [],
   "source": [
    "# load in the dataset into a pandas dataframe\n",
    "# load dataset\n",
    "ford_df = pd.read_csv('201902-fordgobike-tripdata.csv')"
   ]
  },
  {
   "cell_type": "code",
   "execution_count": 3,
   "metadata": {
    "slideshow": {
     "slide_type": "skip"
    }
   },
   "outputs": [],
   "source": [
    "# drop null values\n",
    "\n",
    "ford_df.dropna(inplace=True)\n",
    "\n",
    "# change data type\n",
    "ford_df['start_time'] = pd.to_datetime(ford_df['start_time'])\n",
    "ford_df['end_time'] = pd.to_datetime(ford_df['end_time'])\n",
    "\n",
    "ford_df['bike_id'] =ford_df[\"bike_id\"].astype(str)\n",
    "\n",
    "# Create new columns\n",
    "# start time\n",
    "ford_df['start_month'] = ford_df[\"start_time\"].dt.month_name()\n",
    "ford_df['start_day'] = ford_df[\"start_time\"].dt.day_name() \n",
    "ford_df['start_hour'] =ford_df[\"start_time\"].dt.hour\n",
    "\n",
    "# from end_time\n",
    "ford_df['end_month'] = ford_df[\"start_time\"].dt.month_name()\n",
    "ford_df['end_day'] = ford_df[\"start_time\"].dt.day_name()\n",
    "ford_df['end_hour'] = ford_df[\"end_time\"].dt.hour"
   ]
  },
  {
   "cell_type": "code",
   "execution_count": 4,
   "metadata": {
    "slideshow": {
     "slide_type": "skip"
    }
   },
   "outputs": [],
   "source": [
    "ordinal_var_dict = {'start_day': ['Sunday','Monday','Tuesday','Wednesday','Thursday','Friday','Saturday'],\n",
    "                    'end_day': ['Sunday','Monday','Tuesday','Wednesday','Thursday','Friday','Saturday'] }\n",
    "\n",
    "nominal_var_dict = {'user_type': ['Customer','Subscriber'],\n",
    "                    'member_gender': ['Male', 'Female', 'Other']}\n",
    "\n",
    "\n",
    "for var in ordinal_var_dict:\n",
    "    ordered_var = pd.api.types.CategoricalDtype(ordered = True,\n",
    "                                                categories = ordinal_var_dict[var])\n",
    "    ford_df[var] = ford_df[var].astype(ordered_var)\n",
    "\n",
    "for var in nominal_var_dict:\n",
    "    ordered_var = pd.api.types.CategoricalDtype(ordered = True,\n",
    "                                                categories = nominal_var_dict[var])\n",
    "    ford_df[var] = ford_df[var].astype(ordered_var) "
   ]
  },
  {
   "cell_type": "markdown",
   "metadata": {
    "slideshow": {
     "slide_type": "slide"
    }
   },
   "source": [
    "### User Type Distribution in Bike Trips\n",
    "\n",
    "> Subscribers make up majority of the bike users with 90.5% percentage while the number of frequent customers is a 9.5% "
   ]
  },
  {
   "cell_type": "code",
   "execution_count": 5,
   "metadata": {
    "slideshow": {
     "slide_type": "subslide"
    }
   },
   "outputs": [
    {
     "data": {
      "image/png": "[encoded data removed]",
      "text/plain": [
       "<matplotlib.figure.Figure at 0x7efbf58eb828>"
      ]
     },
     "metadata": {
      "needs_background": "light"
     },
     "output_type": "display_data"
    }
   ],
   "source": [
    "base_color = sb.color_palette()[2]\n",
    "ax = sb.countplot(data = ford_df, x = 'user_type',  color= base_color, order=ford_df.user_type.value_counts().index)\n",
    "    \n",
    "total = len(ford_df)\n",
    "for p in ax.patches:\n",
    "    percentage = '{:.1f}%'.format(100 * p.get_height()/total)\n",
    "    x = p.get_x() + p.get_width() / 2 - 0.05\n",
    "    y = p.get_y() + p.get_height()\n",
    "    ax.annotate(percentage, (x, y), size = 16)\n",
    "plt.xlabel('User Type')\n",
    "plt.title('User Type Frequency Distribution');"
   ]
  },
  {
   "cell_type": "markdown",
   "metadata": {
    "slideshow": {
     "slide_type": "slide"
    }
   },
   "source": [
    "### Member Gender Distribution in Trips\n",
    "\n",
    "> Men make more bike trips (74.6%) while the other gender makes the least number of trips at 2.1%"
   ]
  },
  {
   "cell_type": "code",
   "execution_count": 6,
   "metadata": {
    "slideshow": {
     "slide_type": "subslide"
    }
   },
   "outputs": [
    {
     "data": {
      "image/png": "[encoded data removed]",
      "text/plain": [
       "<matplotlib.figure.Figure at 0x7efbf9695c88>"
      ]
     },
     "metadata": {
      "needs_background": "light"
     },
     "output_type": "display_data"
    }
   ],
   "source": [
    "ax = sb.countplot(data = ford_df, x = 'member_gender',  color=sb.color_palette()[0], order=ford_df.member_gender.value_counts().index)\n",
    "    \n",
    "total = len(ford_df)\n",
    "for p in ax.patches:\n",
    "    percentage = '{:.1f}%'.format(100 * p.get_height()/total)\n",
    "    x = p.get_x() + p.get_width() / 2 - 0.05\n",
    "    y = p.get_y() + p.get_height()\n",
    "    ax.annotate(percentage, (x, y), size = 16)\n",
    "plt.xlabel('Member Gender')\n",
    "plt.title('Member Gender Frequency Distribution');"
   ]
  },
  {
   "cell_type": "markdown",
   "metadata": {
    "slideshow": {
     "slide_type": "slide"
    }
   },
   "source": [
    "### Distribution of Trips across the Week\n",
    "\n",
    ">  The day of the week with a biggest number of trips made in a day is on Thursday followed by Tuesday and Friday\n",
    "\n",
    "> The least number of trips per day majored on saturdays and sunday"
   ]
  },
  {
   "cell_type": "code",
   "execution_count": 7,
   "metadata": {
    "slideshow": {
     "slide_type": "subslide"
    }
   },
   "outputs": [
    {
     "data": {
      "image/png": "[encoded data removed]",
      "text/plain": [
       "<matplotlib.figure.Figure at 0x7efbf7aa70f0>"
      ]
     },
     "metadata": {
      "needs_background": "light"
     },
     "output_type": "display_data"
    }
   ],
   "source": [
    "base_color = sb.color_palette()[4]\n",
    "\n",
    "plt.figure(figsize = (12,8))\n",
    "sb.countplot(data = ford_df, x = 'start_day', color = base_color)\n",
    "plt.xlabel('Days of the Week')\n",
    "plt.title('Days of the Week Frequencies');"
   ]
  },
  {
   "cell_type": "markdown",
   "metadata": {
    "slideshow": {
     "slide_type": "slide"
    }
   },
   "source": [
    "### Analysis of User Type Vs Gender and Bike share Distribution\n",
    "\n",
    "> Only subscribers share bikes. Its clear that bike sharing is not a common practice amongst the riders\n",
    "\n",
    "> Subscribers make up a bigger portion of the user type with a big margin"
   ]
  },
  {
   "cell_type": "code",
   "execution_count": 8,
   "metadata": {
    "slideshow": {
     "slide_type": "subslide"
    }
   },
   "outputs": [
    {
     "data": {
      "image/png": "[encoded data removed]",
      "text/plain": [
       "<matplotlib.figure.Figure at 0x7efbf7046be0>"
      ]
     },
     "metadata": {
      "needs_background": "light"
     },
     "output_type": "display_data"
    }
   ],
   "source": [
    "palette = sb.color_palette(\"dark\")\n",
    "sb.set_palette(\"dark\")\n",
    "\n",
    "fig, (ax1, ax2) = plt.subplots(nrows=1, ncols=2,figsize = [18,12])\n",
    "plt.suptitle('User Type Vs Gender and Bike share Distribution')\n",
    "\n",
    "ax1 = plt.subplot(2,2,1)\n",
    "ax1=sb.countplot(data =ford_df, x ='bike_share_for_all_trip', hue = 'user_type')\n",
    "ax1= plt.xlabel('Bike share Rate')\n",
    "ax1= plt.ylabel('Frequency Distribution')\n",
    "\n",
    "ax2 = plt.subplot(2,2,2)\n",
    "ax2=sb.countplot(data = ford_df, x = 'member_gender', hue = 'user_type')\n",
    "ax2= plt.xlabel(\"Gender\")\n",
    "ax2= plt.ylabel('Frequency Distribution')\n"
   ]
  },
  {
   "cell_type": "markdown",
   "metadata": {
    "slideshow": {
     "slide_type": "slide"
    }
   },
   "source": [
    "### Conclusion\n",
    "\n",
    "* On weekdays, Subscribers tend to go for trips more frequently and consistently than on weekends while the number of customers has rises on weekends starting friday, while it has decreased on Sundays. During peak hours, bicycle trips are most often used\n",
    "\n",
    "* In comparison to subscribers, user types that are customers typically travel for longer periods of time\n",
    "\n",
    "* The subscribers are more consistent with their trip duration with majority of the rides being made during  weekdays.\n",
    "\n",
    "* Customer make longer trips in terms of time taken more than the subscribers\n",
    "\n",
    "* The day of the week with a big number of trips taken is Thursday followed by Tuesday and Friday"
   ]
  },
  {
   "cell_type": "markdown",
   "metadata": {
    "slideshow": {
     "slide_type": "skip"
    }
   },
   "source": [
    "### Generate Slideshow\n",
    "Once you're ready to generate your slideshow, use the `jupyter nbconvert` command to generate the HTML slide show.  "
   ]
  },
  {
   "cell_type": "code",
   "execution_count": null,
   "metadata": {
    "slideshow": {
     "slide_type": "skip"
    }
   },
   "outputs": [
    {
     "name": "stdout",
     "output_type": "stream",
     "text": [
      "[NbConvertApp] Converting notebook Part_II_slide_deck_template.ipynb to slides\n",
      "[NbConvertApp] Writing 361410 bytes to Part_II_slide_deck_template.slides.html\n",
      "[NbConvertApp] Redirecting reveal.js requests to https://cdnjs.cloudflare.com/ajax/libs/reveal.js/3.5.0\n",
      "Serving your slides at http://127.0.0.1:8000/Part_II_slide_deck_template.slides.html\n",
      "Use Control-C to stop this server\n",
      "/usr/bin/xdg-open: 778: /usr/bin/xdg-open: x-www-browser: not found\n",
      "/usr/bin/xdg-open: 778: /usr/bin/xdg-open: firefox: not found\n",
      "/usr/bin/xdg-open: 778: /usr/bin/xdg-open: iceweasel: not found\n",
      "/usr/bin/xdg-open: 778: /usr/bin/xdg-open: seamonkey: not found\n",
      "/usr/bin/xdg-open: 778: /usr/bin/xdg-open: mozilla: not found\n",
      "/usr/bin/xdg-open: 778: /usr/bin/xdg-open: epiphany: not found\n",
      "/usr/bin/xdg-open: 778: /usr/bin/xdg-open: konqueror: not found\n",
      "/usr/bin/xdg-open: 778: /usr/bin/xdg-open: chromium-browser: not found\n",
      "/usr/bin/xdg-open: 778: /usr/bin/xdg-open: google-chrome: not found\n",
      "/usr/bin/xdg-open: 778: /usr/bin/xdg-open: www-browser: not found\n",
      "/usr/bin/xdg-open: 778: /usr/bin/xdg-open: links2: not found\n",
      "/usr/bin/xdg-open: 778: /usr/bin/xdg-open: elinks: not found\n",
      "/usr/bin/xdg-open: 778: /usr/bin/xdg-open: links: not found\n",
      "/usr/bin/xdg-open: 778: /usr/bin/xdg-open: lynx: not found\n",
      "/usr/bin/xdg-open: 778: /usr/bin/xdg-open: w3m: not found\n",
      "xdg-open: no method available for opening 'http://127.0.0.1:8000/Part_II_slide_deck_template.slides.html'\n"
     ]
    }
   ],
   "source": [
    "# Use this command if you are running this file in local\n",
    "!jupyter nbconvert Part_II_slide_deck_template.ipynb --to slides --post serve --no-input --no-prompt"
   ]
  },
  {
   "cell_type": "markdown",
   "metadata": {
    "slideshow": {
     "slide_type": "skip"
    }
   },
   "source": [
    "> In the classroom workspace, the generated HTML slideshow will be placed in the home folder. \n",
    "\n",
    "> In local machines, the command above should open a tab in your web browser where you can scroll through your presentation. Sub-slides can be accessed by pressing 'down' when viewing its parent slide. Make sure you remove all of the quote-formatted guide notes like this one before you finish your presentation! At last, you can stop the Kernel. "
   ]
  },
  {
   "cell_type": "markdown",
   "metadata": {
    "slideshow": {
     "slide_type": "skip"
    }
   },
   "source": [
    "### Submission\n",
    "If you are using classroom workspace, you can choose from the following two ways of submission:\n",
    "\n",
    "1. **Submit from the workspace**. Make sure you have removed the example project from the /home/workspace directory. You must submit the following files:\n",
    "   - Part_I_notebook.ipynb\n",
    "   - Part_I_notebook.html or pdf\n",
    "   - Part_II_notebook.ipynb\n",
    "   - Part_I_slides.html\n",
    "   - README.md\n",
    "   - dataset (optional)\n",
    "\n",
    "\n",
    "2. **Submit a zip file on the last page of this project lesson**. In this case, open the Jupyter terminal and run the command below to generate a ZIP file. \n",
    "```bash\n",
    "zip -r my_project.zip .\n",
    "```\n",
    "The command abobve will ZIP every file present in your /home/workspace directory. Next, you can download the zip to your local, and follow the instructions on the last page of this project lesson.\n"
   ]
  }
 ],
 "metadata": {
  "celltoolbar": "Slideshow",
  "kernelspec": {
   "display_name": "Python 3",
   "language": "python",
   "name": "python3"
  },
  "language_info": {
   "codemirror_mode": {
    "name": "ipython",
    "version": 3
   },
   "file_extension": ".py",
   "mimetype": "text/x-python",
   "name": "python",
   "nbconvert_exporter": "python",
   "pygments_lexer": "ipython3",
   "version": "3.6.3"
  }
 },
 "nbformat": 4,
 "nbformat_minor": 2
}
